{
 "cells": [
  {
   "cell_type": "markdown",
   "metadata": {},
   "source": [
    "#### Job Satisfaction\n",
    "\n",
    "In this notebook, you will be exploring job satisfaction according to the survey results.  Use the cells at the top of the notebook to explore as necessary, and use your findings to solve the questions at the bottom of the notebook."
   ]
  },
  {
   "cell_type": "code",
   "execution_count": 1,
   "metadata": {},
   "outputs": [
    {
     "data": {
      "text/html": [
       "<div>\n",
       "<style scoped>\n",
       "    .dataframe tbody tr th:only-of-type {\n",
       "        vertical-align: middle;\n",
       "    }\n",
       "\n",
       "    .dataframe tbody tr th {\n",
       "        vertical-align: top;\n",
       "    }\n",
       "\n",
       "    .dataframe thead th {\n",
       "        text-align: right;\n",
       "    }\n",
       "</style>\n",
       "<table border=\"1\" class=\"dataframe\">\n",
       "  <thead>\n",
       "    <tr style=\"text-align: right;\">\n",
       "      <th></th>\n",
       "      <th>Respondent</th>\n",
       "      <th>Professional</th>\n",
       "      <th>ProgramHobby</th>\n",
       "      <th>Country</th>\n",
       "      <th>University</th>\n",
       "      <th>EmploymentStatus</th>\n",
       "      <th>FormalEducation</th>\n",
       "      <th>MajorUndergrad</th>\n",
       "      <th>HomeRemote</th>\n",
       "      <th>CompanySize</th>\n",
       "      <th>...</th>\n",
       "      <th>StackOverflowMakeMoney</th>\n",
       "      <th>Gender</th>\n",
       "      <th>HighestEducationParents</th>\n",
       "      <th>Race</th>\n",
       "      <th>SurveyLong</th>\n",
       "      <th>QuestionsInteresting</th>\n",
       "      <th>QuestionsConfusing</th>\n",
       "      <th>InterestedAnswers</th>\n",
       "      <th>Salary</th>\n",
       "      <th>ExpectedSalary</th>\n",
       "    </tr>\n",
       "  </thead>\n",
       "  <tbody>\n",
       "    <tr>\n",
       "      <th>0</th>\n",
       "      <td>1</td>\n",
       "      <td>Student</td>\n",
       "      <td>Yes, both</td>\n",
       "      <td>United States</td>\n",
       "      <td>No</td>\n",
       "      <td>Not employed, and not looking for work</td>\n",
       "      <td>Secondary school</td>\n",
       "      <td>NaN</td>\n",
       "      <td>NaN</td>\n",
       "      <td>NaN</td>\n",
       "      <td>...</td>\n",
       "      <td>Strongly disagree</td>\n",
       "      <td>Male</td>\n",
       "      <td>High school</td>\n",
       "      <td>White or of European descent</td>\n",
       "      <td>Strongly disagree</td>\n",
       "      <td>Strongly agree</td>\n",
       "      <td>Disagree</td>\n",
       "      <td>Strongly agree</td>\n",
       "      <td>NaN</td>\n",
       "      <td>NaN</td>\n",
       "    </tr>\n",
       "    <tr>\n",
       "      <th>1</th>\n",
       "      <td>2</td>\n",
       "      <td>Student</td>\n",
       "      <td>Yes, both</td>\n",
       "      <td>United Kingdom</td>\n",
       "      <td>Yes, full-time</td>\n",
       "      <td>Employed part-time</td>\n",
       "      <td>Some college/university study without earning ...</td>\n",
       "      <td>Computer science or software engineering</td>\n",
       "      <td>More than half, but not all, the time</td>\n",
       "      <td>20 to 99 employees</td>\n",
       "      <td>...</td>\n",
       "      <td>Strongly disagree</td>\n",
       "      <td>Male</td>\n",
       "      <td>A master's degree</td>\n",
       "      <td>White or of European descent</td>\n",
       "      <td>Somewhat agree</td>\n",
       "      <td>Somewhat agree</td>\n",
       "      <td>Disagree</td>\n",
       "      <td>Strongly agree</td>\n",
       "      <td>NaN</td>\n",
       "      <td>37500.0</td>\n",
       "    </tr>\n",
       "    <tr>\n",
       "      <th>2</th>\n",
       "      <td>3</td>\n",
       "      <td>Professional developer</td>\n",
       "      <td>Yes, both</td>\n",
       "      <td>United Kingdom</td>\n",
       "      <td>No</td>\n",
       "      <td>Employed full-time</td>\n",
       "      <td>Bachelor's degree</td>\n",
       "      <td>Computer science or software engineering</td>\n",
       "      <td>Less than half the time, but at least one day ...</td>\n",
       "      <td>10,000 or more employees</td>\n",
       "      <td>...</td>\n",
       "      <td>Disagree</td>\n",
       "      <td>Male</td>\n",
       "      <td>A professional degree</td>\n",
       "      <td>White or of European descent</td>\n",
       "      <td>Somewhat agree</td>\n",
       "      <td>Agree</td>\n",
       "      <td>Disagree</td>\n",
       "      <td>Agree</td>\n",
       "      <td>113750.0</td>\n",
       "      <td>NaN</td>\n",
       "    </tr>\n",
       "    <tr>\n",
       "      <th>3</th>\n",
       "      <td>4</td>\n",
       "      <td>Professional non-developer who sometimes write...</td>\n",
       "      <td>Yes, both</td>\n",
       "      <td>United States</td>\n",
       "      <td>No</td>\n",
       "      <td>Employed full-time</td>\n",
       "      <td>Doctoral degree</td>\n",
       "      <td>A non-computer-focused engineering discipline</td>\n",
       "      <td>Less than half the time, but at least one day ...</td>\n",
       "      <td>10,000 or more employees</td>\n",
       "      <td>...</td>\n",
       "      <td>Disagree</td>\n",
       "      <td>Male</td>\n",
       "      <td>A doctoral degree</td>\n",
       "      <td>White or of European descent</td>\n",
       "      <td>Agree</td>\n",
       "      <td>Agree</td>\n",
       "      <td>Somewhat agree</td>\n",
       "      <td>Strongly agree</td>\n",
       "      <td>NaN</td>\n",
       "      <td>NaN</td>\n",
       "    </tr>\n",
       "    <tr>\n",
       "      <th>4</th>\n",
       "      <td>5</td>\n",
       "      <td>Professional developer</td>\n",
       "      <td>Yes, I program as a hobby</td>\n",
       "      <td>Switzerland</td>\n",
       "      <td>No</td>\n",
       "      <td>Employed full-time</td>\n",
       "      <td>Master's degree</td>\n",
       "      <td>Computer science or software engineering</td>\n",
       "      <td>Never</td>\n",
       "      <td>10 to 19 employees</td>\n",
       "      <td>...</td>\n",
       "      <td>NaN</td>\n",
       "      <td>NaN</td>\n",
       "      <td>NaN</td>\n",
       "      <td>NaN</td>\n",
       "      <td>NaN</td>\n",
       "      <td>NaN</td>\n",
       "      <td>NaN</td>\n",
       "      <td>NaN</td>\n",
       "      <td>NaN</td>\n",
       "      <td>NaN</td>\n",
       "    </tr>\n",
       "  </tbody>\n",
       "</table>\n",
       "<p>5 rows × 154 columns</p>\n",
       "</div>"
      ],
      "text/plain": [
       "   Respondent                                       Professional  \\\n",
       "0           1                                            Student   \n",
       "1           2                                            Student   \n",
       "2           3                             Professional developer   \n",
       "3           4  Professional non-developer who sometimes write...   \n",
       "4           5                             Professional developer   \n",
       "\n",
       "                ProgramHobby         Country      University  \\\n",
       "0                  Yes, both   United States              No   \n",
       "1                  Yes, both  United Kingdom  Yes, full-time   \n",
       "2                  Yes, both  United Kingdom              No   \n",
       "3                  Yes, both   United States              No   \n",
       "4  Yes, I program as a hobby     Switzerland              No   \n",
       "\n",
       "                         EmploymentStatus  \\\n",
       "0  Not employed, and not looking for work   \n",
       "1                      Employed part-time   \n",
       "2                      Employed full-time   \n",
       "3                      Employed full-time   \n",
       "4                      Employed full-time   \n",
       "\n",
       "                                     FormalEducation  \\\n",
       "0                                   Secondary school   \n",
       "1  Some college/university study without earning ...   \n",
       "2                                  Bachelor's degree   \n",
       "3                                    Doctoral degree   \n",
       "4                                    Master's degree   \n",
       "\n",
       "                                  MajorUndergrad  \\\n",
       "0                                            NaN   \n",
       "1       Computer science or software engineering   \n",
       "2       Computer science or software engineering   \n",
       "3  A non-computer-focused engineering discipline   \n",
       "4       Computer science or software engineering   \n",
       "\n",
       "                                          HomeRemote  \\\n",
       "0                                                NaN   \n",
       "1              More than half, but not all, the time   \n",
       "2  Less than half the time, but at least one day ...   \n",
       "3  Less than half the time, but at least one day ...   \n",
       "4                                              Never   \n",
       "\n",
       "                CompanySize       ...       StackOverflowMakeMoney Gender  \\\n",
       "0                       NaN       ...            Strongly disagree   Male   \n",
       "1        20 to 99 employees       ...            Strongly disagree   Male   \n",
       "2  10,000 or more employees       ...                     Disagree   Male   \n",
       "3  10,000 or more employees       ...                     Disagree   Male   \n",
       "4        10 to 19 employees       ...                          NaN    NaN   \n",
       "\n",
       "  HighestEducationParents                          Race         SurveyLong  \\\n",
       "0             High school  White or of European descent  Strongly disagree   \n",
       "1       A master's degree  White or of European descent     Somewhat agree   \n",
       "2   A professional degree  White or of European descent     Somewhat agree   \n",
       "3       A doctoral degree  White or of European descent              Agree   \n",
       "4                     NaN                           NaN                NaN   \n",
       "\n",
       "  QuestionsInteresting QuestionsConfusing InterestedAnswers    Salary  \\\n",
       "0       Strongly agree           Disagree    Strongly agree       NaN   \n",
       "1       Somewhat agree           Disagree    Strongly agree       NaN   \n",
       "2                Agree           Disagree             Agree  113750.0   \n",
       "3                Agree     Somewhat agree    Strongly agree       NaN   \n",
       "4                  NaN                NaN               NaN       NaN   \n",
       "\n",
       "   ExpectedSalary  \n",
       "0             NaN  \n",
       "1         37500.0  \n",
       "2             NaN  \n",
       "3             NaN  \n",
       "4             NaN  \n",
       "\n",
       "[5 rows x 154 columns]"
      ]
     },
     "execution_count": 1,
     "metadata": {},
     "output_type": "execute_result"
    }
   ],
   "source": [
    "import pandas as pd\n",
    "import numpy as np\n",
    "import JobSatisfaction as t\n",
    "import matplotlib.pyplot as plt\n",
    "%matplotlib inline\n",
    "import seaborn as sns\n",
    "\n",
    "\n",
    "df = pd.read_csv('./survey_results_public.csv')\n",
    "schema = pd.read_csv('./survey_results_schema.csv')\n",
    "df.head()"
   ]
  },
  {
   "cell_type": "code",
   "execution_count": 34,
   "metadata": {},
   "outputs": [
    {
     "data": {
      "text/plain": [
       "Index(['PronounceGIF', 'ProblemSolving', 'BuildingThings', 'LearningNewTech',\n",
       "       'BoringDetails', 'JobSecurity', 'DiversityImportant', 'AnnoyingUI',\n",
       "       'FriendsDevelopers', 'RightWrongWay', 'UnderstandComputers',\n",
       "       'SeriousWork', 'InvestTimeTools', 'WorkPayCare', 'KinshipDevelopers',\n",
       "       'ChallengeMyself', 'CompetePeers', 'ChangeWorld', 'JobSeekingStatus',\n",
       "       'HoursPerWeek', 'LastNewJob', 'AssessJobIndustry', 'AssessJobRole',\n",
       "       'AssessJobExp', 'AssessJobDept', 'AssessJobTech', 'AssessJobProjects',\n",
       "       'AssessJobCompensation', 'AssessJobOffice', 'AssessJobCommute',\n",
       "       'AssessJobRemote', 'AssessJobLeaders', 'AssessJobProfDevel',\n",
       "       'AssessJobDiversity', 'AssessJobProduct', 'AssessJobFinances',\n",
       "       'ImportantBenefits', 'ClickyKeys', 'JobProfile', 'ResumePrompted',\n",
       "       'LearnedHiring', 'ImportantHiringAlgorithms', 'ImportantHiringTechExp',\n",
       "       'ImportantHiringCommunication', 'ImportantHiringOpenSource',\n",
       "       'ImportantHiringPMExp', 'ImportantHiringCompanies',\n",
       "       'ImportantHiringTitles', 'ImportantHiringEducation',\n",
       "       'ImportantHiringRep', 'ImportantHiringGettingThingsDone', 'Currency',\n",
       "       'Overpaid', 'TabsSpaces', 'EducationImportant', 'EducationTypes',\n",
       "       'SelfTaughtTypes', 'TimeAfterBootcamp', 'CousinEducation', 'WorkStart',\n",
       "       'HaveWorkedLanguage', 'WantWorkLanguage', 'HaveWorkedFramework',\n",
       "       'WantWorkFramework', 'HaveWorkedDatabase', 'WantWorkDatabase',\n",
       "       'HaveWorkedPlatform', 'WantWorkPlatform', 'IDE', 'AuditoryEnvironment',\n",
       "       'Methodology', 'VersionControl', 'CheckInCode', 'ShipIt',\n",
       "       'OtherPeoplesCode', 'ProjectManagement', 'EnjoyDebugging', 'InTheZone',\n",
       "       'DifficultCommunication', 'CollaborateRemote', 'MetricAssess',\n",
       "       'EquipmentSatisfiedMonitors', 'EquipmentSatisfiedCPU',\n",
       "       'EquipmentSatisfiedRAM', 'EquipmentSatisfiedStorage',\n",
       "       'EquipmentSatisfiedRW', 'InfluenceInternet', 'InfluenceWorkstation',\n",
       "       'InfluenceHardware', 'InfluenceServers', 'InfluenceTechStack',\n",
       "       'InfluenceDeptTech'],\n",
       "      dtype='object')"
      ]
     },
     "execution_count": 34,
     "metadata": {},
     "output_type": "execute_result"
    }
   ],
   "source": [
    "df.columns[28:120]"
   ]
  },
  {
   "cell_type": "code",
   "execution_count": 2,
   "metadata": {},
   "outputs": [
    {
     "data": {
      "text/html": [
       "<div>\n",
       "<style scoped>\n",
       "    .dataframe tbody tr th:only-of-type {\n",
       "        vertical-align: middle;\n",
       "    }\n",
       "\n",
       "    .dataframe tbody tr th {\n",
       "        vertical-align: top;\n",
       "    }\n",
       "\n",
       "    .dataframe thead th {\n",
       "        text-align: right;\n",
       "    }\n",
       "</style>\n",
       "<table border=\"1\" class=\"dataframe\">\n",
       "  <thead>\n",
       "    <tr style=\"text-align: right;\">\n",
       "      <th></th>\n",
       "      <th>Respondent</th>\n",
       "      <th>CareerSatisfaction</th>\n",
       "      <th>JobSatisfaction</th>\n",
       "      <th>HoursPerWeek</th>\n",
       "      <th>StackOverflowSatisfaction</th>\n",
       "      <th>Salary</th>\n",
       "      <th>ExpectedSalary</th>\n",
       "    </tr>\n",
       "  </thead>\n",
       "  <tbody>\n",
       "    <tr>\n",
       "      <th>count</th>\n",
       "      <td>19102.000000</td>\n",
       "      <td>16102.000000</td>\n",
       "      <td>15253.000000</td>\n",
       "      <td>7721.000000</td>\n",
       "      <td>13452.000000</td>\n",
       "      <td>5009.000000</td>\n",
       "      <td>818.000000</td>\n",
       "    </tr>\n",
       "    <tr>\n",
       "      <th>mean</th>\n",
       "      <td>9551.500000</td>\n",
       "      <td>7.343932</td>\n",
       "      <td>7.000721</td>\n",
       "      <td>3.685922</td>\n",
       "      <td>8.357865</td>\n",
       "      <td>58341.398571</td>\n",
       "      <td>32231.521687</td>\n",
       "    </tr>\n",
       "    <tr>\n",
       "      <th>std</th>\n",
       "      <td>5514.416757</td>\n",
       "      <td>1.919330</td>\n",
       "      <td>2.128648</td>\n",
       "      <td>7.330691</td>\n",
       "      <td>1.405546</td>\n",
       "      <td>40753.384986</td>\n",
       "      <td>28543.877274</td>\n",
       "    </tr>\n",
       "    <tr>\n",
       "      <th>min</th>\n",
       "      <td>1.000000</td>\n",
       "      <td>0.000000</td>\n",
       "      <td>0.000000</td>\n",
       "      <td>0.000000</td>\n",
       "      <td>0.000000</td>\n",
       "      <td>0.000000</td>\n",
       "      <td>0.000000</td>\n",
       "    </tr>\n",
       "    <tr>\n",
       "      <th>25%</th>\n",
       "      <td>4776.250000</td>\n",
       "      <td>6.000000</td>\n",
       "      <td>6.000000</td>\n",
       "      <td>0.000000</td>\n",
       "      <td>8.000000</td>\n",
       "      <td>27956.989247</td>\n",
       "      <td>4716.459735</td>\n",
       "    </tr>\n",
       "    <tr>\n",
       "      <th>50%</th>\n",
       "      <td>9551.500000</td>\n",
       "      <td>8.000000</td>\n",
       "      <td>7.000000</td>\n",
       "      <td>1.000000</td>\n",
       "      <td>8.000000</td>\n",
       "      <td>51612.903226</td>\n",
       "      <td>29784.946237</td>\n",
       "    </tr>\n",
       "    <tr>\n",
       "      <th>75%</th>\n",
       "      <td>14326.750000</td>\n",
       "      <td>9.000000</td>\n",
       "      <td>8.000000</td>\n",
       "      <td>3.000000</td>\n",
       "      <td>9.000000</td>\n",
       "      <td>83333.333333</td>\n",
       "      <td>50000.000000</td>\n",
       "    </tr>\n",
       "    <tr>\n",
       "      <th>max</th>\n",
       "      <td>19102.000000</td>\n",
       "      <td>10.000000</td>\n",
       "      <td>10.000000</td>\n",
       "      <td>40.000000</td>\n",
       "      <td>10.000000</td>\n",
       "      <td>195000.000000</td>\n",
       "      <td>120000.000000</td>\n",
       "    </tr>\n",
       "  </tbody>\n",
       "</table>\n",
       "</div>"
      ],
      "text/plain": [
       "         Respondent  CareerSatisfaction  JobSatisfaction  HoursPerWeek  \\\n",
       "count  19102.000000        16102.000000     15253.000000   7721.000000   \n",
       "mean    9551.500000            7.343932         7.000721      3.685922   \n",
       "std     5514.416757            1.919330         2.128648      7.330691   \n",
       "min        1.000000            0.000000         0.000000      0.000000   \n",
       "25%     4776.250000            6.000000         6.000000      0.000000   \n",
       "50%     9551.500000            8.000000         7.000000      1.000000   \n",
       "75%    14326.750000            9.000000         8.000000      3.000000   \n",
       "max    19102.000000           10.000000        10.000000     40.000000   \n",
       "\n",
       "       StackOverflowSatisfaction         Salary  ExpectedSalary  \n",
       "count               13452.000000    5009.000000      818.000000  \n",
       "mean                    8.357865   58341.398571    32231.521687  \n",
       "std                     1.405546   40753.384986    28543.877274  \n",
       "min                     0.000000       0.000000        0.000000  \n",
       "25%                     8.000000   27956.989247     4716.459735  \n",
       "50%                     8.000000   51612.903226    29784.946237  \n",
       "75%                     9.000000   83333.333333    50000.000000  \n",
       "max                    10.000000  195000.000000   120000.000000  "
      ]
     },
     "execution_count": 2,
     "metadata": {},
     "output_type": "execute_result"
    }
   ],
   "source": [
    "#Space for your code\n",
    "df.describe()"
   ]
  },
  {
   "cell_type": "code",
   "execution_count": 32,
   "metadata": {},
   "outputs": [
    {
     "data": {
      "text/plain": [
       "Country\n",
       "Bermuda                150000.000000\n",
       "Kuwait                 115200.000000\n",
       "Puerto Rico            114000.000000\n",
       "United States           98722.138493\n",
       "Switzerland             94568.813565\n",
       "Liechtenstein           93766.666667\n",
       "Venezuela               85311.004785\n",
       "Norway                  79553.226268\n",
       "Australia               71912.852437\n",
       "Denmark                 67618.178948\n",
       "Nicaragua               65000.000000\n",
       "Ireland                 64626.642772\n",
       "Albania                 63225.806452\n",
       "Israel                  63159.986028\n",
       "I prefer not to say     61756.272401\n",
       "Name: Salary, dtype: float64"
      ]
     },
     "execution_count": 32,
     "metadata": {},
     "output_type": "execute_result"
    }
   ],
   "source": [
    "#More space for code\n",
    "grouped = df.groupby(['Country']).mean().sort_values(by = 'Salary', ascending = False)['Salary']\n",
    "grouped = grouped. dropna()\n",
    "grouped = grouped.head(15)\n",
    "grouped"
   ]
  },
  {
   "cell_type": "code",
   "execution_count": 33,
   "metadata": {},
   "outputs": [
    {
     "data": {
      "text/plain": [
       "<matplotlib.axes._subplots.AxesSubplot at 0x7f2b87d2aa90>"
      ]
     },
     "execution_count": 33,
     "metadata": {},
     "output_type": "execute_result"
    },
    {
     "data": {
      "image/png": "[encoded data removed]",
      "text/plain": [
       "<matplotlib.figure.Figure at 0x7f2b8b91c4e0>"
      ]
     },
     "metadata": {
      "needs_background": "light"
     },
     "output_type": "display_data"
    }
   ],
   "source": [
    "grouped.plot(kind = 'bar')"
   ]
  },
  {
   "cell_type": "code",
   "execution_count": 39,
   "metadata": {},
   "outputs": [
    {
     "data": {
      "text/plain": [
       "[Text(0,0,'Student'),\n",
       " Text(0,0,'Professional developer'),\n",
       " Text(0,0,'Professional non-developer who sometimes writes code'),\n",
       " Text(0,0,'Used to be a professional developer'),\n",
       " Text(0,0,'None of these')]"
      ]
     },
     "execution_count": 39,
     "metadata": {},
     "output_type": "execute_result"
    },
    {
     "data": {
      "image/png": "[encoded data removed]",
      "text/plain": [
       "<matplotlib.figure.Figure at 0x7f2b86fec2b0>"
      ]
     },
     "metadata": {
      "needs_background": "light"
     },
     "output_type": "display_data"
    }
   ],
   "source": [
    "#Feel free to create new cells as you need them\n",
    "\n",
    "ax = sns.countplot(x=\"Professional\", data=df)\n",
    "ax.set_xticklabels(ax.get_xticklabels(), rotation=90)"
   ]
  },
  {
   "cell_type": "markdown",
   "metadata": {},
   "source": [
    "#### Question 1\n",
    "\n",
    "**1.** Use the space above to assist in matching each variable (**a**, **b**, **c**, **d**, **e**, **f**, **g**, or **h** ) as the appropriate key that describes the value in the **job_sol_1** dictionary."
   ]
  },
  {
   "cell_type": "code",
   "execution_count": 2,
   "metadata": {},
   "outputs": [
    {
     "data": {
      "text/plain": [
       "0.20149722542142184"
      ]
     },
     "execution_count": 2,
     "metadata": {},
     "output_type": "execute_result"
    }
   ],
   "source": [
    "#The proportion of missing values in the Job Satisfaction column\n",
    "np.sum(df['JobSatisfaction'].isnull())/df.shape[0]"
   ]
  },
  {
   "cell_type": "code",
   "execution_count": 10,
   "metadata": {},
   "outputs": [
    {
     "data": {
      "text/plain": [
       "(19102, 154)"
      ]
     },
     "execution_count": 10,
     "metadata": {},
     "output_type": "execute_result"
    }
   ],
   "source": [
    "df.shape"
   ]
  },
  {
   "cell_type": "code",
   "execution_count": 48,
   "metadata": {},
   "outputs": [
    {
     "data": {
      "text/plain": [
       "array(['Not employed, and not looking for work', 'Employed part-time',\n",
       "       'Employed full-time',\n",
       "       'Independent contractor, freelancer, or self-employed',\n",
       "       'Not employed, but looking for work', 'I prefer not to say',\n",
       "       'Retired'], dtype=object)"
      ]
     },
     "execution_count": 48,
     "metadata": {},
     "output_type": "execute_result"
    }
   ],
   "source": [
    "df['EmploymentStatus'].unique()"
   ]
  },
  {
   "cell_type": "code",
   "execution_count": 49,
   "metadata": {},
   "outputs": [
    {
     "data": {
      "text/html": [
       "<div>\n",
       "<style scoped>\n",
       "    .dataframe tbody tr th:only-of-type {\n",
       "        vertical-align: middle;\n",
       "    }\n",
       "\n",
       "    .dataframe tbody tr th {\n",
       "        vertical-align: top;\n",
       "    }\n",
       "\n",
       "    .dataframe thead th {\n",
       "        text-align: right;\n",
       "    }\n",
       "</style>\n",
       "<table border=\"1\" class=\"dataframe\">\n",
       "  <thead>\n",
       "    <tr style=\"text-align: right;\">\n",
       "      <th></th>\n",
       "      <th>Respondent</th>\n",
       "      <th>CareerSatisfaction</th>\n",
       "      <th>JobSatisfaction</th>\n",
       "      <th>HoursPerWeek</th>\n",
       "      <th>StackOverflowSatisfaction</th>\n",
       "      <th>Salary</th>\n",
       "      <th>ExpectedSalary</th>\n",
       "    </tr>\n",
       "    <tr>\n",
       "      <th>EmploymentStatus</th>\n",
       "      <th></th>\n",
       "      <th></th>\n",
       "      <th></th>\n",
       "      <th></th>\n",
       "      <th></th>\n",
       "      <th></th>\n",
       "      <th></th>\n",
       "    </tr>\n",
       "  </thead>\n",
       "  <tbody>\n",
       "    <tr>\n",
       "      <th>Employed full-time</th>\n",
       "      <td>9455.134017</td>\n",
       "      <td>7.408127</td>\n",
       "      <td>6.980608</td>\n",
       "      <td>3.280686</td>\n",
       "      <td>8.394302</td>\n",
       "      <td>59484.545564</td>\n",
       "      <td>33694.458564</td>\n",
       "    </tr>\n",
       "    <tr>\n",
       "      <th>Employed part-time</th>\n",
       "      <td>9853.381849</td>\n",
       "      <td>7.162011</td>\n",
       "      <td>6.846154</td>\n",
       "      <td>3.628231</td>\n",
       "      <td>8.307006</td>\n",
       "      <td>22542.459828</td>\n",
       "      <td>37178.879990</td>\n",
       "    </tr>\n",
       "    <tr>\n",
       "      <th>I prefer not to say</th>\n",
       "      <td>9961.018373</td>\n",
       "      <td>6.747967</td>\n",
       "      <td>NaN</td>\n",
       "      <td>4.863158</td>\n",
       "      <td>8.087500</td>\n",
       "      <td>NaN</td>\n",
       "      <td>36765.219991</td>\n",
       "    </tr>\n",
       "    <tr>\n",
       "      <th>Independent contractor, freelancer, or self-employed</th>\n",
       "      <td>9716.381029</td>\n",
       "      <td>7.417947</td>\n",
       "      <td>7.231985</td>\n",
       "      <td>3.993213</td>\n",
       "      <td>8.290698</td>\n",
       "      <td>NaN</td>\n",
       "      <td>27868.383944</td>\n",
       "    </tr>\n",
       "    <tr>\n",
       "      <th>Not employed, and not looking for work</th>\n",
       "      <td>9675.636961</td>\n",
       "      <td>6.715976</td>\n",
       "      <td>NaN</td>\n",
       "      <td>2.138211</td>\n",
       "      <td>8.200323</td>\n",
       "      <td>NaN</td>\n",
       "      <td>34472.638841</td>\n",
       "    </tr>\n",
       "    <tr>\n",
       "      <th>Not employed, but looking for work</th>\n",
       "      <td>9897.671082</td>\n",
       "      <td>5.020067</td>\n",
       "      <td>NaN</td>\n",
       "      <td>8.228916</td>\n",
       "      <td>8.271218</td>\n",
       "      <td>NaN</td>\n",
       "      <td>25407.271772</td>\n",
       "    </tr>\n",
       "    <tr>\n",
       "      <th>Retired</th>\n",
       "      <td>10445.233333</td>\n",
       "      <td>8.153846</td>\n",
       "      <td>NaN</td>\n",
       "      <td>2.500000</td>\n",
       "      <td>7.194444</td>\n",
       "      <td>NaN</td>\n",
       "      <td>NaN</td>\n",
       "    </tr>\n",
       "  </tbody>\n",
       "</table>\n",
       "</div>"
      ],
      "text/plain": [
       "                                                      Respondent  \\\n",
       "EmploymentStatus                                                   \n",
       "Employed full-time                                   9455.134017   \n",
       "Employed part-time                                   9853.381849   \n",
       "I prefer not to say                                  9961.018373   \n",
       "Independent contractor, freelancer, or self-emp...   9716.381029   \n",
       "Not employed, and not looking for work               9675.636961   \n",
       "Not employed, but looking for work                   9897.671082   \n",
       "Retired                                             10445.233333   \n",
       "\n",
       "                                                    CareerSatisfaction  \\\n",
       "EmploymentStatus                                                         \n",
       "Employed full-time                                            7.408127   \n",
       "Employed part-time                                            7.162011   \n",
       "I prefer not to say                                           6.747967   \n",
       "Independent contractor, freelancer, or self-emp...            7.417947   \n",
       "Not employed, and not looking for work                        6.715976   \n",
       "Not employed, but looking for work                            5.020067   \n",
       "Retired                                                       8.153846   \n",
       "\n",
       "                                                    JobSatisfaction  \\\n",
       "EmploymentStatus                                                      \n",
       "Employed full-time                                         6.980608   \n",
       "Employed part-time                                         6.846154   \n",
       "I prefer not to say                                             NaN   \n",
       "Independent contractor, freelancer, or self-emp...         7.231985   \n",
       "Not employed, and not looking for work                          NaN   \n",
       "Not employed, but looking for work                              NaN   \n",
       "Retired                                                         NaN   \n",
       "\n",
       "                                                    HoursPerWeek  \\\n",
       "EmploymentStatus                                                   \n",
       "Employed full-time                                      3.280686   \n",
       "Employed part-time                                      3.628231   \n",
       "I prefer not to say                                     4.863158   \n",
       "Independent contractor, freelancer, or self-emp...      3.993213   \n",
       "Not employed, and not looking for work                  2.138211   \n",
       "Not employed, but looking for work                      8.228916   \n",
       "Retired                                                 2.500000   \n",
       "\n",
       "                                                    StackOverflowSatisfaction  \\\n",
       "EmploymentStatus                                                                \n",
       "Employed full-time                                                   8.394302   \n",
       "Employed part-time                                                   8.307006   \n",
       "I prefer not to say                                                  8.087500   \n",
       "Independent contractor, freelancer, or self-emp...                   8.290698   \n",
       "Not employed, and not looking for work                               8.200323   \n",
       "Not employed, but looking for work                                   8.271218   \n",
       "Retired                                                              7.194444   \n",
       "\n",
       "                                                          Salary  \\\n",
       "EmploymentStatus                                                   \n",
       "Employed full-time                                  59484.545564   \n",
       "Employed part-time                                  22542.459828   \n",
       "I prefer not to say                                          NaN   \n",
       "Independent contractor, freelancer, or self-emp...           NaN   \n",
       "Not employed, and not looking for work                       NaN   \n",
       "Not employed, but looking for work                           NaN   \n",
       "Retired                                                      NaN   \n",
       "\n",
       "                                                    ExpectedSalary  \n",
       "EmploymentStatus                                                    \n",
       "Employed full-time                                    33694.458564  \n",
       "Employed part-time                                    37178.879990  \n",
       "I prefer not to say                                   36765.219991  \n",
       "Independent contractor, freelancer, or self-emp...    27868.383944  \n",
       "Not employed, and not looking for work                34472.638841  \n",
       "Not employed, but looking for work                    25407.271772  \n",
       "Retired                                                        NaN  "
      ]
     },
     "execution_count": 49,
     "metadata": {},
     "output_type": "execute_result"
    }
   ],
   "source": [
    "df.groupby(['EmploymentStatus']).mean()"
   ]
  },
  {
   "cell_type": "code",
   "execution_count": 45,
   "metadata": {},
   "outputs": [
    {
     "data": {
      "text/plain": [
       "EmploymentStatus\n",
       "Independent contractor, freelancer, or self-employed    7.231985\n",
       "Employed full-time                                      6.980608\n",
       "Employed part-time                                      6.846154\n",
       "Name: JobSatisfaction, dtype: float64"
      ]
     },
     "execution_count": 45,
     "metadata": {},
     "output_type": "execute_result"
    }
   ],
   "source": [
    "# According to EmploymentStatus, which group has the highest average job satisfaction?\n",
    "grouped = df.groupby(['EmploymentStatus']).mean().sort_values(by = 'JobSatisfaction', ascending = False)['JobSatisfaction']\n",
    "grouped = grouped. dropna()\n",
    "\n",
    "grouped"
   ]
  },
  {
   "cell_type": "code",
   "execution_count": 11,
   "metadata": {},
   "outputs": [
    {
     "data": {
      "text/plain": [
       "CompanySize\n",
       "I prefer not to answer      7.284946\n",
       "I don't know                7.054622\n",
       "10 to 19 employees          7.035739\n",
       "500 to 999 employees        7.029967\n",
       "100 to 499 employees        7.029324\n",
       "Fewer than 10 employees     7.025719\n",
       "20 to 99 employees          6.997039\n",
       "1,000 to 4,999 employees    6.908506\n",
       "5,000 to 9,999 employees    6.832155\n",
       "10,000 or more employees    6.793617\n",
       "Name: JobSatisfaction, dtype: float64"
      ]
     },
     "execution_count": 11,
     "metadata": {},
     "output_type": "execute_result"
    }
   ],
   "source": [
    "# In general, do smaller companies appear to have employees with higher job satisfaction?\n",
    "grouped = df.groupby(['CompanySize']).mean().sort_values(by = 'JobSatisfaction', ascending = False)['JobSatisfaction']\n",
    "grouped = grouped. dropna()\n",
    "\n",
    "grouped"
   ]
  },
  {
   "cell_type": "code",
   "execution_count": 24,
   "metadata": {},
   "outputs": [
    {
     "data": {
      "text/plain": [
       "<matplotlib.axes._subplots.AxesSubplot at 0x7fbacc037b70>"
      ]
     },
     "execution_count": 24,
     "metadata": {},
     "output_type": "execute_result"
    },
    {
     "data": {
      "image/png": "[encoded data removed]",
      "text/plain": [
       "<matplotlib.figure.Figure at 0x7fbaf89d7240>"
      ]
     },
     "metadata": {
      "needs_background": "light"
     },
     "output_type": "display_data"
    }
   ],
   "source": [
    "grouped[[0,1,5,2,6,4,3,7,8,9]].plot(kind = 'bar')"
   ]
  },
  {
   "cell_type": "code",
   "execution_count": 25,
   "metadata": {},
   "outputs": [
    {
     "name": "stdout",
     "output_type": "stream",
     "text": [
      "Nice job! That's what we found as well!\n"
     ]
    }
   ],
   "source": [
    "a = 0.734\n",
    "b = 0.2014\n",
    "c = 'full-time'\n",
    "d = 'contractors'\n",
    "e = 'retired'\n",
    "f = 'yes'\n",
    "g = 'no'\n",
    "h = 'hard to tell'\n",
    "\n",
    "job_sol_1 = {'The proportion of missing values in the Job Satisfaction column': b,#letter here,\n",
    "             'According to EmploymentStatus, which group has the highest average job satisfaction?': d,#letter here, \n",
    "             'In general, do smaller companies appear to have employees with higher job satisfaction?': f#letter here\n",
    "            }\n",
    "             \n",
    "t.jobsat_check1(job_sol_1)"
   ]
  },
  {
   "cell_type": "markdown",
   "metadata": {},
   "source": [
    "#### Question 2\n",
    "\n",
    "**2.** Use the space above to assist in matching each variable (**a**, **b**, **c** ) as the appropriate key that describes the value in the **job_sol_2** dictionary. Notice you can have the same letter appear more than once."
   ]
  },
  {
   "cell_type": "code",
   "execution_count": 8,
   "metadata": {},
   "outputs": [
    {
     "data": {
      "text/plain": [
       "array(['Yes, both', 'Yes, I program as a hobby', 'No',\n",
       "       'Yes, I contribute to open source projects'], dtype=object)"
      ]
     },
     "execution_count": 8,
     "metadata": {},
     "output_type": "execute_result"
    }
   ],
   "source": [
    "# 'Do individuals who program outside of work appear to have higher JobSatisfaction?'\n",
    "df['ProgramHobby'].unique()"
   ]
  },
  {
   "cell_type": "code",
   "execution_count": 36,
   "metadata": {},
   "outputs": [
    {
     "data": {
      "text/plain": [
       "<matplotlib.axes._subplots.AxesSubplot at 0x7fbacbf27470>"
      ]
     },
     "execution_count": 36,
     "metadata": {},
     "output_type": "execute_result"
    },
    {
     "data": {
      "image/png": "[encoded data removed]",
      "text/plain": [
       "<matplotlib.figure.Figure at 0x7fbacbf8fda0>"
      ]
     },
     "metadata": {
      "needs_background": "light"
     },
     "output_type": "display_data"
    }
   ],
   "source": [
    "grouped = df.groupby(['ProgramHobby']).mean().sort_values(by = 'JobSatisfaction', ascending = False)['JobSatisfaction']\n",
    "grouped = grouped. dropna()\n",
    "\n",
    "grouped\n",
    "grouped.plot(kind = 'bar')"
   ]
  },
  {
   "cell_type": "code",
   "execution_count": 39,
   "metadata": {},
   "outputs": [
    {
     "data": {
      "text/plain": [
       "<matplotlib.axes._subplots.AxesSubplot at 0x7fbacbf09048>"
      ]
     },
     "execution_count": 39,
     "metadata": {},
     "output_type": "execute_result"
    },
    {
     "data": {
      "image/png": "[encoded data removed]",
      "text/plain": [
       "<matplotlib.figure.Figure at 0x7fbacbeea630>"
      ]
     },
     "metadata": {
      "needs_background": "light"
     },
     "output_type": "display_data"
    }
   ],
   "source": [
    "#Does flexibility to work outside of the office appear to have an influence on JobSatisfaction?'\n",
    "grouped = df.groupby(['HomeRemote']).mean().sort_values(by = 'JobSatisfaction', ascending = False)['JobSatisfaction']\n",
    "grouped = grouped. dropna()\n",
    "\n",
    "grouped\n",
    "grouped.plot(kind = 'bar')"
   ]
  },
  {
   "cell_type": "code",
   "execution_count": 40,
   "metadata": {},
   "outputs": [
    {
     "data": {
      "text/plain": [
       "<matplotlib.axes._subplots.AxesSubplot at 0x7fbacbe7fe80>"
      ]
     },
     "execution_count": 40,
     "metadata": {},
     "output_type": "execute_result"
    },
    {
     "data": {
      "image/png": "[encoded data removed]",
      "text/plain": [
       "<matplotlib.figure.Figure at 0x7fbacbe3feb8>"
      ]
     },
     "metadata": {
      "needs_background": "light"
     },
     "output_type": "display_data"
    }
   ],
   "source": [
    "# A friend says a Doctoral degree increases the chance of having job you like, does this seem true?\n",
    "grouped = df.groupby(['FormalEducation']).mean().sort_values(by = 'JobSatisfaction', ascending = False)['JobSatisfaction']\n",
    "grouped = grouped. dropna()\n",
    "\n",
    "grouped\n",
    "grouped.plot(kind = 'bar')"
   ]
  },
  {
   "cell_type": "code",
   "execution_count": 41,
   "metadata": {},
   "outputs": [
    {
     "name": "stdout",
     "output_type": "stream",
     "text": [
      "Nice job! That's what we found as well!\n"
     ]
    }
   ],
   "source": [
    "a = 'yes'\n",
    "b = 'no'\n",
    "c = 'hard to tell'\n",
    "\n",
    "job_sol_2 = {'Do individuals who program outside of work appear to have higher JobSatisfaction?': a,#letter here,\n",
    "             'Does flexibility to work outside of the office appear to have an influence on JobSatisfaction?': a,#letter here, \n",
    "             'A friend says a Doctoral degree increases the chance of having job you like, does this seem true?': a}#letter here}\n",
    "             \n",
    "t.jobsat_check2(job_sol_2)"
   ]
  },
  {
   "cell_type": "code",
   "execution_count": null,
   "metadata": {},
   "outputs": [],
   "source": []
  }
 ],
 "metadata": {
  "kernelspec": {
   "display_name": "Python 3",
   "language": "python",
   "name": "python3"
  },
  "language_info": {
   "codemirror_mode": {
    "name": "ipython",
    "version": 3
   },
   "file_extension": ".py",
   "mimetype": "text/x-python",
   "name": "python",
   "nbconvert_exporter": "python",
   "pygments_lexer": "ipython3",
   "version": "3.6.3"
  }
 },
 "nbformat": 4,
 "nbformat_minor": 2
}
