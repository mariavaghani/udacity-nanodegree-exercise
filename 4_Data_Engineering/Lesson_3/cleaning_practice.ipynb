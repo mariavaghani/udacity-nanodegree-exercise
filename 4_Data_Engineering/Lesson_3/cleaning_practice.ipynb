{
 "cells": [
  {
   "cell_type": "markdown",
   "metadata": {},
   "source": [
    "# Cleaning Quiz: Udacity's Course Catalog\n",
    "It's your turn! Udacity's [course catalog page](https://www.udacity.com/courses/all) has changed since the last video was filmed. One notable change is the introduction of  _schools_.\n",
    "\n",
    "In this activity, you're going to perform similar actions with BeautifulSoup to extract the following information from each course listing on the page:\n",
    "1. The course name - e.g. \"Data Analyst\"\n",
    "2. The school the course belongs to - e.g. \"School of Data Science\"\n",
    "\n",
    "**Note: All solution notebooks can be found by clicking on the Jupyter icon on the top left of this workspace.**"
   ]
  },
  {
   "cell_type": "markdown",
   "metadata": {},
   "source": [
    "### Step 1: Get text from Udacity's course catalog web page\n",
    "You can use the `requests` library to do this.\n",
    "\n",
    "Outputting all the javascript, CSS, and text may overload the space available to load this notebook, so we omit a print statement here."
   ]
  },
  {
   "cell_type": "code",
   "execution_count": 1,
   "metadata": {},
   "outputs": [],
   "source": [
    "# import statements\n",
    "import requests"
   ]
  },
  {
   "cell_type": "code",
   "execution_count": 2,
   "metadata": {},
   "outputs": [],
   "source": [
    "# fetch web page\n",
    "r = requests.get('https://www.udacity.com/courses/all')"
   ]
  },
  {
   "cell_type": "markdown",
   "metadata": {},
   "source": [
    "### Step 2: Use BeautifulSoup to remove HTML tags\n",
    "Use `\"lxml\"` rather than `\"html5lib\"`.\n",
    "\n",
    "Again, printing this entire result may overload the space available to load this notebook, so we omit a print statement here."
   ]
  },
  {
   "cell_type": "code",
   "execution_count": 3,
   "metadata": {},
   "outputs": [],
   "source": [
    "from bs4 import BeautifulSoup\n",
    "soup = BeautifulSoup(r.text, 'lxml')"
   ]
  },
  {
   "cell_type": "markdown",
   "metadata": {},
   "source": [
    "### Step 3: Find all course summaries\n",
    "Use the BeautifulSoup's `find_all` method to select based on tag type and class name. Just like in the video, you can right click on the item, and click \"Inspect\" to view its html on a web page."
   ]
  },
  {
   "cell_type": "code",
   "execution_count": 4,
   "metadata": {},
   "outputs": [
    {
     "name": "stdout",
     "output_type": "stream",
     "text": [
      "Number of Courses: 256\n"
     ]
    }
   ],
   "source": [
    "# Find all course summaries\n",
    "summaries = soup.find_all(\"div\", class_= \"_catalog-card-lemur_body__1-oK_\")\n",
    "print('Number of Courses:', len(summaries))"
   ]
  },
  {
   "cell_type": "code",
   "execution_count": 5,
   "metadata": {},
   "outputs": [
    {
     "data": {
      "text/plain": [
       "<div class=\"_catalog-card-lemur_body__1-oK_\"><div><ul class=\"_catalog-card-lemur_featureFlagContainer__979NY\" data-mobileonly=\"false\"><li data-type=\"new\"><small>New</small></li></ul><h2>Data Engineer</h2><h3>School of Data Science</h3><div class=\"_catalog-card-lemur_reviews__2nBv7\" data-mobileonly=\"true\"><div class=\"rating-stars_container__1Qfdx rating-stars_medium__3EtZH\"><div class=\"rating-stars_active__1jeqn\" style=\"width:91.30358705161855%\"></div><span class=\"rating-stars_visuallyHidden__hA5mX\">91.30358705161855<!-- -->%</span></div><small>1143<!-- --> reviews</small></div><p>Data Engineering is the foundation for the new world of Big Data. Enroll now to build production-ready data infrastructure, an essential skill for advancing your data career.</p></div><ul class=\"_catalog-card-lemur_stats__3ASYn\"><li data-level=\"intermediate\">intermediate</li><li data-duration=\"\">5 Months</li><li><div class=\"_catalog-card-lemur_reviews__2nBv7\" data-mobileonly=\"false\"><div class=\"rating-stars_container__1Qfdx rating-stars_medium__3EtZH\"><div class=\"rating-stars_active__1jeqn\" style=\"width:91.30358705161855%\"></div><span class=\"rating-stars_visuallyHidden__hA5mX\">91.30358705161855<!-- -->%</span></div><small>1143<!-- --> reviews</small></div></li></ul><div class=\"_catalog-card-lemur_overview__3vHct\"><section><h4>Skills Covered</h4><p>Data Modeling, Data Pipelines, Data Lakes, Spark, Airflow</p></section><section><h4>Prerequisites</h4><p>Intermediate Python &amp; SQL</p></section></div></div>"
      ]
     },
     "execution_count": 5,
     "metadata": {},
     "output_type": "execute_result"
    }
   ],
   "source": [
    "summaries[0]"
   ]
  },
  {
   "cell_type": "markdown",
   "metadata": {},
   "source": [
    "### Step 4: Inspect the first summary to find selectors for the course name and school\n",
    "Tip: `.prettify()` is a super helpful method BeautifulSoup provides to output html in a nicely indented form! Make sure to use `print()` to ensure whitespace is displayed properly."
   ]
  },
  {
   "cell_type": "code",
   "execution_count": 6,
   "metadata": {},
   "outputs": [
    {
     "name": "stdout",
     "output_type": "stream",
     "text": [
      "<div class=\"_catalog-card-lemur_body__1-oK_\">\n",
      " <div>\n",
      "  <ul class=\"_catalog-card-lemur_featureFlagContainer__979NY\" data-mobileonly=\"false\">\n",
      "   <li data-type=\"new\">\n",
      "    <small>\n",
      "     New\n",
      "    </small>\n",
      "   </li>\n",
      "  </ul>\n",
      "  <h2>\n",
      "   Data Engineer\n",
      "  </h2>\n",
      "  <h3>\n",
      "   School of Data Science\n",
      "  </h3>\n",
      "  <div class=\"_catalog-card-lemur_reviews__2nBv7\" data-mobileonly=\"true\">\n",
      "   <div class=\"rating-stars_container__1Qfdx rating-stars_medium__3EtZH\">\n",
      "    <div class=\"rating-stars_active__1jeqn\" style=\"width:91.30358705161855%\">\n",
      "    </div>\n",
      "    <span class=\"rating-stars_visuallyHidden__hA5mX\">\n",
      "     91.30358705161855\n",
      "     <!-- -->\n",
      "     %\n",
      "    </span>\n",
      "   </div>\n",
      "   <small>\n",
      "    1143\n",
      "    <!-- -->\n",
      "    reviews\n",
      "   </small>\n",
      "  </div>\n",
      "  <p>\n",
      "   Data Engineering is the foundation for the new world of Big Data. Enroll now to build production-ready data infrastructure, an essential skill for advancing your data career.\n",
      "  </p>\n",
      " </div>\n",
      " <ul class=\"_catalog-card-lemur_stats__3ASYn\">\n",
      "  <li data-level=\"intermediate\">\n",
      "   intermediate\n",
      "  </li>\n",
      "  <li data-duration=\"\">\n",
      "   5 Months\n",
      "  </li>\n",
      "  <li>\n",
      "   <div class=\"_catalog-card-lemur_reviews__2nBv7\" data-mobileonly=\"false\">\n",
      "    <div class=\"rating-stars_container__1Qfdx rating-stars_medium__3EtZH\">\n",
      "     <div class=\"rating-stars_active__1jeqn\" style=\"width:91.30358705161855%\">\n",
      "     </div>\n",
      "     <span class=\"rating-stars_visuallyHidden__hA5mX\">\n",
      "      91.30358705161855\n",
      "      <!-- -->\n",
      "      %\n",
      "     </span>\n",
      "    </div>\n",
      "    <small>\n",
      "     1143\n",
      "     <!-- -->\n",
      "     reviews\n",
      "    </small>\n",
      "   </div>\n",
      "  </li>\n",
      " </ul>\n",
      " <div class=\"_catalog-card-lemur_overview__3vHct\">\n",
      "  <section>\n",
      "   <h4>\n",
      "    Skills Covered\n",
      "   </h4>\n",
      "   <p>\n",
      "    Data Modeling, Data Pipelines, Data Lakes, Spark, Airflow\n",
      "   </p>\n",
      "  </section>\n",
      "  <section>\n",
      "   <h4>\n",
      "    Prerequisites\n",
      "   </h4>\n",
      "   <p>\n",
      "    Intermediate Python &amp; SQL\n",
      "   </p>\n",
      "  </section>\n",
      " </div>\n",
      "</div>\n",
      "\n"
     ]
    }
   ],
   "source": [
    "# print the first summary in summaries\n",
    "print(summaries[0].prettify())"
   ]
  },
  {
   "cell_type": "markdown",
   "metadata": {},
   "source": [
    "Look for selectors that contain the courses title and school name text you want to extract. Then, use the `select_one` method on the summary object to pull out the html with those selectors. Afterwards, don't forget to do some extra cleaning to isolate the names (get rid of unnecessary html), as you saw in the last video."
   ]
  },
  {
   "cell_type": "code",
   "execution_count": 7,
   "metadata": {},
   "outputs": [
    {
     "data": {
      "text/plain": [
       "<h2>Data Engineer</h2>"
      ]
     },
     "execution_count": 7,
     "metadata": {},
     "output_type": "execute_result"
    }
   ],
   "source": [
    "# Extract course title\n",
    "summaries[0].select_one('h2')"
   ]
  },
  {
   "cell_type": "code",
   "execution_count": null,
   "metadata": {},
   "outputs": [],
   "source": [
    "# Extract school\n"
   ]
  },
  {
   "cell_type": "markdown",
   "metadata": {},
   "source": [
    "### Step 5: Collect names and schools of ALL course listings\n",
    "Reuse your code from the previous step, but now in a loop to extract the name and school from every course summary in `summaries`!"
   ]
  },
  {
   "cell_type": "code",
   "execution_count": null,
   "metadata": {},
   "outputs": [],
   "source": [
    "courses = []\n",
    "for summary in summaries:\n",
    "    # append name and school of each summary to courses list\n"
   ]
  },
  {
   "cell_type": "code",
   "execution_count": null,
   "metadata": {},
   "outputs": [],
   "source": [
    "# display results\n",
    "print(len(courses), \"course summaries found. Sample:\")\n",
    "courses[:20]"
   ]
  }
 ],
 "metadata": {
  "kernelspec": {
   "display_name": "Python 3",
   "language": "python",
   "name": "python3"
  },
  "language_info": {
   "codemirror_mode": {
    "name": "ipython",
    "version": 3
   },
   "file_extension": ".py",
   "mimetype": "text/x-python",
   "name": "python",
   "nbconvert_exporter": "python",
   "pygments_lexer": "ipython3",
   "version": "3.6.3"
  }
 },
 "nbformat": 4,
 "nbformat_minor": 2
}
